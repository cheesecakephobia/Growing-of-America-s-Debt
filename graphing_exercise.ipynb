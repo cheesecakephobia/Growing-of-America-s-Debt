{
  "nbformat": 4,
  "nbformat_minor": 0,
  "metadata": {
    "colab": {
      "name": "graphing_exercise.ipynb",
      "provenance": [],
      "collapsed_sections": [],
      "mount_file_id": "1qfum4LhLzSl60lPczKF1zBVmIG-m1UYh",
      "authorship_tag": "ABX9TyOWSb0voWQHVS0qsA9bFZcp",
      "include_colab_link": true
    },
    "kernelspec": {
      "name": "python3",
      "display_name": "Python 3"
    },
    "language_info": {
      "name": "python"
    }
  },
  "cells": [
    {
      "cell_type": "markdown",
      "metadata": {
        "id": "view-in-github",
        "colab_type": "text"
      },
      "source": [
        "<a href=\"https://colab.research.google.com/github/cheesecakephobia/Growing-of-America-s-Debt/blob/main/graphing_exercise.ipynb\" target=\"_parent\"><img src=\"https://colab.research.google.com/assets/colab-badge.svg\" alt=\"Open In Colab\"/></a>"
      ]
    },
    {
      "cell_type": "code",
      "metadata": {
        "colab": {
          "base_uri": "https://localhost:8080/"
        },
        "id": "b7lFPuHup1yO",
        "outputId": "79bb0bad-a5d8-487a-d374-23a96a9ef2aa"
      },
      "source": [
        "import pandas as pd\n",
        "import matplotlib.pyplot as plt\n",
        "import numpy as np\n",
        "\n",
        "filename = '/content/drive/MyDrive/US GDP vs Debt.xlsx'\n",
        "df = pd.read_excel(filename)\n",
        "df.info()"
      ],
      "execution_count": 33,
      "outputs": [
        {
          "output_type": "stream",
          "text": [
            "<class 'pandas.core.frame.DataFrame'>\n",
            "RangeIndex: 295 entries, 0 to 294\n",
            "Data columns (total 3 columns):\n",
            " #   Column                         Non-Null Count  Dtype         \n",
            "---  ------                         --------------  -----         \n",
            " 0   Quarter                        295 non-null    datetime64[ns]\n",
            " 1   Gross Domestic Product ($mil)  295 non-null    float64       \n",
            " 2   Total Public Debt ($mil)       218 non-null    float64       \n",
            "dtypes: datetime64[ns](1), float64(2)\n",
            "memory usage: 7.0 KB\n"
          ],
          "name": "stdout"
        }
      ]
    },
    {
      "cell_type": "code",
      "metadata": {
        "colab": {
          "base_uri": "https://localhost:8080/",
          "height": 204
        },
        "id": "gMbN82VYrLX9",
        "outputId": "53e5bf37-ddca-4f80-cbbf-f32b39ca9542"
      },
      "source": [
        "df.head()"
      ],
      "execution_count": 5,
      "outputs": [
        {
          "output_type": "execute_result",
          "data": {
            "text/html": [
              "<div>\n",
              "<style scoped>\n",
              "    .dataframe tbody tr th:only-of-type {\n",
              "        vertical-align: middle;\n",
              "    }\n",
              "\n",
              "    .dataframe tbody tr th {\n",
              "        vertical-align: top;\n",
              "    }\n",
              "\n",
              "    .dataframe thead th {\n",
              "        text-align: right;\n",
              "    }\n",
              "</style>\n",
              "<table border=\"1\" class=\"dataframe\">\n",
              "  <thead>\n",
              "    <tr style=\"text-align: right;\">\n",
              "      <th></th>\n",
              "      <th>Quarter</th>\n",
              "      <th>Gross Domestic Product ($mil)</th>\n",
              "      <th>Total Public Debt ($mil)</th>\n",
              "    </tr>\n",
              "  </thead>\n",
              "  <tbody>\n",
              "    <tr>\n",
              "      <th>0</th>\n",
              "      <td>1947-01-01</td>\n",
              "      <td>243.164</td>\n",
              "      <td>NaN</td>\n",
              "    </tr>\n",
              "    <tr>\n",
              "      <th>1</th>\n",
              "      <td>1947-04-01</td>\n",
              "      <td>245.968</td>\n",
              "      <td>NaN</td>\n",
              "    </tr>\n",
              "    <tr>\n",
              "      <th>2</th>\n",
              "      <td>1947-07-01</td>\n",
              "      <td>249.585</td>\n",
              "      <td>NaN</td>\n",
              "    </tr>\n",
              "    <tr>\n",
              "      <th>3</th>\n",
              "      <td>1947-10-01</td>\n",
              "      <td>259.745</td>\n",
              "      <td>NaN</td>\n",
              "    </tr>\n",
              "    <tr>\n",
              "      <th>4</th>\n",
              "      <td>1948-01-01</td>\n",
              "      <td>265.742</td>\n",
              "      <td>NaN</td>\n",
              "    </tr>\n",
              "  </tbody>\n",
              "</table>\n",
              "</div>"
            ],
            "text/plain": [
              "     Quarter  Gross Domestic Product ($mil)  Total Public Debt ($mil)\n",
              "0 1947-01-01                        243.164                       NaN\n",
              "1 1947-04-01                        245.968                       NaN\n",
              "2 1947-07-01                        249.585                       NaN\n",
              "3 1947-10-01                        259.745                       NaN\n",
              "4 1948-01-01                        265.742                       NaN"
            ]
          },
          "metadata": {
            "tags": []
          },
          "execution_count": 5
        }
      ]
    },
    {
      "cell_type": "code",
      "metadata": {
        "colab": {
          "base_uri": "https://localhost:8080/",
          "height": 419
        },
        "id": "TLib3OAEsEVv",
        "outputId": "77c570bb-9e0c-4ecd-b931-43e56e33aefa"
      },
      "source": [
        "df_filter = df.loc[0:295,:].dropna(how = 'any')\n",
        "df_filter"
      ],
      "execution_count": 9,
      "outputs": [
        {
          "output_type": "execute_result",
          "data": {
            "text/html": [
              "<div>\n",
              "<style scoped>\n",
              "    .dataframe tbody tr th:only-of-type {\n",
              "        vertical-align: middle;\n",
              "    }\n",
              "\n",
              "    .dataframe tbody tr th {\n",
              "        vertical-align: top;\n",
              "    }\n",
              "\n",
              "    .dataframe thead th {\n",
              "        text-align: right;\n",
              "    }\n",
              "</style>\n",
              "<table border=\"1\" class=\"dataframe\">\n",
              "  <thead>\n",
              "    <tr style=\"text-align: right;\">\n",
              "      <th></th>\n",
              "      <th>Quarter</th>\n",
              "      <th>Gross Domestic Product ($mil)</th>\n",
              "      <th>Total Public Debt ($mil)</th>\n",
              "    </tr>\n",
              "  </thead>\n",
              "  <tbody>\n",
              "    <tr>\n",
              "      <th>76</th>\n",
              "      <td>1966-01-01</td>\n",
              "      <td>795.734</td>\n",
              "      <td>320999.0</td>\n",
              "    </tr>\n",
              "    <tr>\n",
              "      <th>77</th>\n",
              "      <td>1966-04-01</td>\n",
              "      <td>804.981</td>\n",
              "      <td>316097.0</td>\n",
              "    </tr>\n",
              "    <tr>\n",
              "      <th>78</th>\n",
              "      <td>1966-07-01</td>\n",
              "      <td>819.638</td>\n",
              "      <td>324748.0</td>\n",
              "    </tr>\n",
              "    <tr>\n",
              "      <th>79</th>\n",
              "      <td>1966-10-01</td>\n",
              "      <td>833.302</td>\n",
              "      <td>329319.0</td>\n",
              "    </tr>\n",
              "    <tr>\n",
              "      <th>80</th>\n",
              "      <td>1967-01-01</td>\n",
              "      <td>844.170</td>\n",
              "      <td>330947.0</td>\n",
              "    </tr>\n",
              "    <tr>\n",
              "      <th>...</th>\n",
              "      <td>...</td>\n",
              "      <td>...</td>\n",
              "      <td>...</td>\n",
              "    </tr>\n",
              "    <tr>\n",
              "      <th>289</th>\n",
              "      <td>2019-04-01</td>\n",
              "      <td>21329.877</td>\n",
              "      <td>22023283.0</td>\n",
              "    </tr>\n",
              "    <tr>\n",
              "      <th>290</th>\n",
              "      <td>2019-07-01</td>\n",
              "      <td>21540.325</td>\n",
              "      <td>22719402.0</td>\n",
              "    </tr>\n",
              "    <tr>\n",
              "      <th>291</th>\n",
              "      <td>2019-10-01</td>\n",
              "      <td>21747.394</td>\n",
              "      <td>23201380.0</td>\n",
              "    </tr>\n",
              "    <tr>\n",
              "      <th>292</th>\n",
              "      <td>2020-01-01</td>\n",
              "      <td>21561.139</td>\n",
              "      <td>23223813.0</td>\n",
              "    </tr>\n",
              "    <tr>\n",
              "      <th>293</th>\n",
              "      <td>2020-04-01</td>\n",
              "      <td>19520.114</td>\n",
              "      <td>26477241.0</td>\n",
              "    </tr>\n",
              "  </tbody>\n",
              "</table>\n",
              "<p>218 rows × 3 columns</p>\n",
              "</div>"
            ],
            "text/plain": [
              "       Quarter  Gross Domestic Product ($mil)  Total Public Debt ($mil)\n",
              "76  1966-01-01                        795.734                  320999.0\n",
              "77  1966-04-01                        804.981                  316097.0\n",
              "78  1966-07-01                        819.638                  324748.0\n",
              "79  1966-10-01                        833.302                  329319.0\n",
              "80  1967-01-01                        844.170                  330947.0\n",
              "..         ...                            ...                       ...\n",
              "289 2019-04-01                      21329.877                22023283.0\n",
              "290 2019-07-01                      21540.325                22719402.0\n",
              "291 2019-10-01                      21747.394                23201380.0\n",
              "292 2020-01-01                      21561.139                23223813.0\n",
              "293 2020-04-01                      19520.114                26477241.0\n",
              "\n",
              "[218 rows x 3 columns]"
            ]
          },
          "metadata": {
            "tags": []
          },
          "execution_count": 9
        }
      ]
    },
    {
      "cell_type": "code",
      "metadata": {
        "colab": {
          "base_uri": "https://localhost:8080/"
        },
        "id": "tlFmf57Kwzpb",
        "outputId": "baecdc89-89c2-4cfa-87e1-e2dfff080d2e"
      },
      "source": [
        "Quarter = df_filter['Quarter']\n",
        "GDP = df_filter['Gross Domestic Product ($mil)']\n",
        "Public_debt = df_filter['Total Public Debt ($mil)']/1000\n",
        "Public_debt"
      ],
      "execution_count": 56,
      "outputs": [
        {
          "output_type": "execute_result",
          "data": {
            "text/plain": [
              "76       320.999\n",
              "77       316.097\n",
              "78       324.748\n",
              "79       329.319\n",
              "80       330.947\n",
              "         ...    \n",
              "289    22023.283\n",
              "290    22719.402\n",
              "291    23201.380\n",
              "292    23223.813\n",
              "293    26477.241\n",
              "Name: Total Public Debt ($mil), Length: 218, dtype: float64"
            ]
          },
          "metadata": {
            "tags": []
          },
          "execution_count": 56
        }
      ]
    },
    {
      "cell_type": "code",
      "metadata": {
        "colab": {
          "base_uri": "https://localhost:8080/",
          "height": 339
        },
        "id": "-qqAXbF3xuK8",
        "outputId": "ec4ac330-5d0a-4e7c-e2a8-18e5eb47f369"
      },
      "source": [
        "plt.plot(Quarter,GDP, color= 'black',label = 'GDP')\n",
        "plt.plot(Quarter,Public_debt, color= 'red', label = 'Actual total public debt/1000')\n",
        "plt.title('GDP vs Total Public Debt', fontsize= 14)\n",
        "plt.ylabel('milllions USD',fontsize= 14)\n",
        "plt.xlabel('Quarters in each year', fontsize= 14)\n",
        "plt.grid()\n",
        "plt.legend()\n",
        "plt.xticks(fontsize=14)\n",
        "plt.xticks(fontsize=15)"
      ],
      "execution_count": 58,
      "outputs": [
        {
          "output_type": "execute_result",
          "data": {
            "text/plain": [
              "(array([715510., 719163., 722815., 726468., 730120., 733773., 737425.,\n",
              "        741078.]), <a list of 8 Text major ticklabel objects>)"
            ]
          },
          "metadata": {
            "tags": []
          },
          "execution_count": 58
        },
        {
          "output_type": "display_data",
          "data": {
            "image/png": "[encoded data removed]",
            "text/plain": [
              "<Figure size 432x288 with 1 Axes>"
            ]
          },
          "metadata": {
            "tags": [],
            "needs_background": "light"
          }
        }
      ]
    }
  ]
}